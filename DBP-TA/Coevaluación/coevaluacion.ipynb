{
 "cells": [
  {
   "cell_type": "markdown",
   "metadata": {},
   "source": [
    "# Sistema de evaluación DBP\n",
    "\n",
    "Ejemplo: Un grupo de 3 estudiantes con las siguientes calificaciones:\n",
    "\n",
    "| | **E1** | **E2** | **E3** |\n",
    "|---|---|---|---|\n",
    "| **E1** | 18 | 19 | 16 |\n",
    "| **E2** | 14 | 15 | 16 |\n",
    "| **E3** | 16 | 18 | 17 |\n"
   ]
  },
  {
   "cell_type": "markdown",
   "metadata": {},
   "source": [
    "## Paso 1: Recolectar notas\n",
    "\n",
    "Supongamos que tenemos un grupo de $n$ estudiantes. Cada estudiante $i$ da una autoevaluación $A_i$ y recibe calificaciones $C_{ij}$ de sus compañeros $j$ (donde $j \\neq i$)."
   ]
  },
  {
   "cell_type": "code",
   "execution_count": 32,
   "metadata": {},
   "outputs": [],
   "source": [
    "import numpy as np\n",
    "\n",
    "n = 4\n",
    "\n",
    "autoevaluaciones = np.array([20, 20, 20, 20]) \n",
    "\n",
    "\n",
    "coevaluaciones = np.array([\n",
    "    [19, 16, 15],  # Evaluaciones recibidas por el primer estudiante de los otros dos\n",
    "    [14, 16, 10],  # Evaluaciones recibidas por el segundo estudiante\n",
    "    [16, 18, 12],   # Evaluaciones recibidas por el tercer estudiante\n",
    "    [20, 19, 18]   # Evaluaciones recibidas por el cuarto estudiante\n",
    "])\n"
   ]
  },
  {
   "cell_type": "markdown",
   "metadata": {},
   "source": [
    "## Paso 2: Calcular la desviación estándar\n",
    "\n",
    "Para cada estudiante, primero calculamos la calificación promedio que recibe de sus compañeros:\n",
    "\n",
    "$$\n",
    "prom(C_i) = \\frac{1}{n-1} \\sum_{j \\neq i} C_{ij} \\\\\n",
    "prom(C_1) = \\frac{1}{2} \\times (19+16) = 17.5 \\\\\n",
    "prom(C_2) = \\frac{1}{2} \\times (14+16) = 15 \\\\\n",
    "prom(C_3) = \\frac{1}{2} \\times (16+18) = 17 \\\\\n",
    "$$\n",
    "\n",
    "Luego, calculamos la desviación estándar de las calificaciones recibidas por cada estudiante:\n",
    "\n",
    "$$\n",
    "\\sigma_i = \\sqrt{\\frac{1}{N-1} \\sum_{j \\neq i}^{N} (C_{ij} - prom(C_i))^2} \\\\\n",
    "\\sigma_1 = \\sqrt{\\frac{1}{1} \\times [(19-17.5)^2 + (16-17.5)^2]} = 2.12132 \\\\\n",
    "\\sigma_2 = \\sqrt{\\frac{1}{1} \\times [(14-15)^2 + (16-15)^2]} = 1.41421 \\\\\n",
    "\\sigma_3 = \\sqrt{\\frac{1}{1} \\times [(16-17)^2 + (18-17)^2]} = 1.41421 \\\\\n",
    "$$"
   ]
  },
  {
   "cell_type": "code",
   "execution_count": 33,
   "metadata": {},
   "outputs": [
    {
     "name": "stdout",
     "output_type": "stream",
     "text": [
      "[16.66666667 13.33333333 15.33333333 19.        ]\n",
      "[2.081666   3.05505046 3.05505046 1.        ]\n"
     ]
    }
   ],
   "source": [
    "# Calcular la calificación promedio recibida por cada estudiante\n",
    "promedios = np.mean(coevaluaciones, axis=1)\n",
    "print(promedios)\n",
    "\n",
    "# Calcular la desviación estándar de las calificaciones recibidas\n",
    "desviaciones = np.std(coevaluaciones, axis=1, ddof=1)\n",
    "print(desviaciones)\n",
    "\n",
    "desviaciones_normalizadas = (autoevaluaciones - promedios) / desviaciones"
   ]
  },
  {
   "cell_type": "markdown",
   "metadata": {},
   "source": [
    "## Paso 3: Establecer el factor multiplicativo\n",
    "Para determinar el factor multiplicativo $F$, podemos usar la relación entre la autoevaluación $A_i$ y la calificación promedio $prom(C_i)$. Por ejemplo, si $A_i$ está significativamente por encima de $prom(C_i)$, se penaliza, y si está significativamente por debajo, se premia.\n",
    "\n",
    "Podemos definir $F$ como sigue:\n",
    "\n",
    "$$\n",
    "F_i = 1 + k \\times \\frac{A_i - prom(C_i)}{\\sigma_i}\n",
    "$$\n",
    "\n",
    "donde $k$ es una constante de ajuste para controlar la magnitud del factor. Queremos que $F_i$ esté entre 0.8 y 1.2, por lo que debemos escalar y limitar este valor. \n",
    "\n",
    "$$\n",
    "F_1 = 1 + k \\times \\frac{18 - 17.5}{1.5} = 1 + k \\times \\frac{0.5}{1.5} = 1 + \\frac{k}{3} \\\\\n",
    "F_2 = 1 + k \\times \\frac{15 - 15}{0.5} = 1 \\\\\n",
    "F_3 = 1 + k \\times \\frac{16 - 17}{1} = 1 - k \\\\\n",
    "$$\n",
    "\n",
    "+ Factor del estudiante 1: $F_1 = 1 + \\frac{k}{3}$\n",
    "+ Factor del estudiante 2: $F_2 = 1$ \n",
    "+ Factor del estudiante 3: $F_3 = 1 - k$ "
   ]
  },
  {
   "cell_type": "code",
   "execution_count": 34,
   "metadata": {},
   "outputs": [
    {
     "name": "stdout",
     "output_type": "stream",
     "text": [
      "Autoevaluaciones: [20 20 20 20]\n",
      "Promedios: [16.66666667 13.33333333 15.33333333 19.        ]\n",
      "Desviaciones: [2.081666   3.05505046 3.05505046 1.        ]\n",
      "Factores multiplicativos: [1.00203279 1.0522064  0.99566227 0.95009854]\n"
     ]
    }
   ],
   "source": [
    "# Constante de ajuste\n",
    "k = 0.1\n",
    "\n",
    "# Calcular el factor multiplicativo para cada estudiante\n",
    "\n",
    "factores = 1 + k * desviaciones_normalizadas\n",
    "print(factores)\n",
    "\n",
    "# Ajustar los factores para que el promedio sea 1\n",
    "factores = factores / np.mean(factores)\n",
    "\n",
    "# Limitar el factor multiplicativo entre 0.8 y 1.2\n",
    "factores = np.clip(factores, 0.8, 1.2)\n",
    "\n",
    "print(\"Autoevaluaciones:\", autoevaluaciones)\n",
    "print(\"Promedios:\", promedios)\n",
    "print(\"Desviaciones:\", desviaciones)\n",
    "print(\"Factores multiplicativos:\", factores)\n"
   ]
  }
 ],
 "metadata": {
  "kernelspec": {
   "display_name": "Python 3",
   "language": "python",
   "name": "python3"
  },
  "language_info": {
   "codemirror_mode": {
    "name": "ipython",
    "version": 3
   },
   "file_extension": ".py",
   "mimetype": "text/x-python",
   "name": "python",
   "nbconvert_exporter": "python",
   "pygments_lexer": "ipython3",
   "version": "3.12.3"
  }
 },
 "nbformat": 4,
 "nbformat_minor": 2
}
