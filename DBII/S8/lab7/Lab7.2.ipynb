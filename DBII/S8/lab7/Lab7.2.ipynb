{
 "cells": [
  {
   "cell_type": "markdown",
   "metadata": {},
   "source": [
    "# Laboratorio 7.2"
   ]
  },
  {
   "cell_type": "code",
   "execution_count": 2,
   "metadata": {},
   "outputs": [
    {
     "name": "stderr",
     "output_type": "stream",
     "text": [
      "[nltk_data] Downloading package punkt to\n",
      "[nltk_data]     C:\\Users\\jeffr\\AppData\\Roaming\\nltk_data...\n",
      "[nltk_data]   Package punkt is already up-to-date!\n",
      "[nltk_data] Downloading package stopwords to\n",
      "[nltk_data]     C:\\Users\\jeffr\\AppData\\Roaming\\nltk_data...\n",
      "[nltk_data]   Package stopwords is already up-to-date!\n"
     ]
    },
    {
     "data": {
      "text/plain": [
       "True"
      ]
     },
     "execution_count": 2,
     "metadata": {},
     "output_type": "execute_result"
    }
   ],
   "source": [
    "import nltk\n",
    "import numpy as np\n",
    "from nltk.stem.snowball import SnowballStemmer\n",
    "nltk.download('punkt')\n",
    "nltk.download('stopwords')"
   ]
  },
  {
   "cell_type": "markdown",
   "metadata": {},
   "source": [
    "## P3- Matriz de similitudes\n",
    "### Elabore una matriz de similitud de coseno entre los documentos de la colección \"El Señor de los Anillos\". Debe aplicar los pesos TF-IDF.\n",
    "### 1. Preprocesamiento"
   ]
  },
  {
   "cell_type": "code",
   "execution_count": 4,
   "metadata": {},
   "outputs": [
    {
     "name": "stdout",
     "output_type": "stream",
     "text": [
      "[['obra', 'comienz', 'notici', 'celebr', '111º', 'cumpleañ', 'bilb', 'bolson', 'comarc', 'embarg', 'bilb', 'gran', 'fiest', 'motiv', 'principal', 'part', 'haci', 'ultim', 'viaj', 'product', 'dese', 'termin', 'dias', 'paz', 'tranquil', 'mag', 'gandalf', 'amig', 'bilb', 'inform', 'decision', 'hobbit', 'acud', 'fiest', 'tras', 'discurs', 'pronunci', 'bilb', 'pus', 'anill', 'magic', 'desaparec', 'sorprend', 'hobbits', 'gandalf', 'sab', 'bien', 'acab', 'hac', 'bilb', 'encontr', 'bolson', 'cerr', 'alli', 'pequeñ', 'discusion', 'neg', 'dej', 'anill', 'junt', 'rest', 'herenci', 'sobrin', 'frod', 'embarg', 'mag', 'acab', 'convenc', 'bilb', 'fin', 'part', 'entonc', 'deb', 'dud', 'ocasion', 'anill', 'gandalf', 'part', 'busc', 'inform', 'inform', 'frod', 'guard', 'toqu', 'casi', 'veint', 'años', 'despues', 'gandalf', 'regres', 'bolson', 'cerr', 'cuent', 'frod', 'descubiert', 'anill', 'trat', 'mism', 'rey', 'isildur', 'arnor', 'arrebat', 'señor', 'oscur', 'sauron', 'años', 'despues', 'sid', 'encontr', 'criatur', 'gollum', 'tras', 'hab', 'perd', 'rio', 'anduin', 'desastr', 'camp', 'gladi', 'ambos', 'qued', 'entonc', 'reun', 'nuev', 'alde', 'bre', 'fin', 'llev', 'lueg', 'anill', 'unic', 'rivendel', 'sabi', 'decid', 'destin', 'junt', 'jardiner', 'samsagaz', 'gamyi', 'frod', 'traz', 'plan', 'sal', 'comarc', 'pretext', 'irse', 'viv', 'gam', 'plan', 'acab', 'siend', 'descubiert', 'dos', 'amig', 'pippin', 'merry', 'decid', 'acompañ', 'tras', 'adentr', 'bosqu', 'viej', 'fin', 'evit', 'camin', 'hobbits', 'atrap', 'viej', 'ucorn', 'tiend', 'tramp', 'embarg', 'salv', 'misteri', 'personaj', 'llam', 'tom', 'bombadil', 'tras', 'pas', 'dias', 'cas', 'hobbits', 'part', 'nuev', 'haci', 'bre', 'acab', 'perd', 'deb', 'niebl', 'lleg', 'quebr', 'tumul', 'alli', 'captur', 'tumulari', 'nuev', 'tras', 'cant', 'frod', 'cancion', 'tom', 'bombadil', 'enseñ', 'acud', 'ayud', 'salv', 'dandol', 'unas', 'armas', 'tumulari', 'pud', 'defend', 'viaj', 'vez', 'bre', 'hobbits', 'acud', 'pos', 'poney', 'pisador', 'frod', 'qued', 'gandalf', 'accidental', 'hobbit', 'pon', 'anill', 'alert', 'asi', 'nazgûl', 'servidor', 'sauron', 'persig', 'arrebat', 'graci', 'amig', 'gandalf', 'llam', 'aragorn', 'hobbit', 'nob', 'logr', 'salv', 'nazgûl', 'atac', 'pos', 'noch', 'dia', 'siguient', 'acompañ', 'aragorn', 'hobbits', 'part', 'haci', 'rivendel', 'par', 'amon', 'sûl', 'nazgûl', 'atac', 'nuev', 'vez', 'hir', 'frod', 'graved', 'tras', 'combat', 'logr', 'escap', 'lleg', 'cerc', 'vad', 'bruin', 'encuentr', 'glorfindel', 'elfo', 'cas', 'elrond', 'acompañ', 'rivendel', 'nuev', 'persegu', 'glorfindel', 'orden', 'caball', 'asfaloth', 'adel', 'llev', 'frod', 'mont', 'lleg', 'rio', 'nazgûl', 'arrastr', 'corrient', 'graci', 'pod', 'rivendel'], ['dias', 'despues', 'frod', 'despert', 'gandalf', 'rivendel', 'este', 'cont', 'ocurr', 'nazgûl', 'elfos', 'llev', 'elrond', 'encarg', 'curacion', 'lueg', 'inform', 'celebr', 'concili', 'acud', 'represent', 'distint', 'puebl', 'tierr', 'medi', 'trat', 'ocurr', 'tem', 'anill', 'gandalf', 'revel', 'traicion', 'sarum', 'ped', 'consej', 'retuv', 'pres', 'isengard', 'tras', 'decid', 'anill', 'deb', 'ser', 'destru', 'fueg', 'orodruin', 'frod', 'ofrec', 'llev', 'alli', 'sam', 'pes', 'invit', 'concili', 'escuch', 'escond', 'ofrec', 'acompañ', 'amo', 'elrond', 'decid', 'tard', 'gandalf', 'aragorn', 'merry', 'pippin', 'enan', 'llam', 'gimli', 'princip', 'legol', 'elfos', 'bosqu', 'negr', 'hereder', 'senescal', 'gondor', 'borom', 'acompañ', 'form', 'llam', 'comun', 'anill', 'dos', 'mes', 'despues', 'comun', 'inic', 'viaj', 'pas', 'acebed', 'antigu', 'eregion', 'lleg', 'montañ', 'nubl', 'decid', 'cruz', 'caradhr', 'cuant', 'acerc', 'pas', 'roh', 'cerc', 'isengard', 'ser', 'captur', 'sarum', 'embarg', 'posibl', 'muert', 'hobbits', 'deb', 'mal', 'clim', 'montañ', 'comun', 'vio', 'oblig', 'dar', 'vuelt', 'atraves', 'montañ', 'min', 'mori', 'camin', 'haci', 'alli', 'comun', 'atac', 'lob', 'sauron', 'consigu', 'rechaz', 'lleg', 'puert', 'oest', 'mori', 'alli', 'atac', 'guardian', 'agu', 'monstru', 'parec', 'krak', 'asent', 'lag', 'cercan', 'puert', 'encerr', 'dentr', 'min', 'despues', 'lleg', 'cam', 'mazarbul', 'tumb', 'balin', 'señor', 'mori', 'gandalf', 'encontr', 'libr', 'enan', 'narr', 'acontec', 'ocurr', 'min', 'puebl', 'sid', 'aniquil', 'orcos', 'entonc', 'comenz', 'oirs', 'tambor', 'aparec', 'numer', 'orcos', 'tras', 'derrot', 'cuant', 'comun', 'logr', 'escap', 'lleg', 'puent', 'khaz', 'dûm', 'alli', 'nuev', 'enemig', 'poder', 'aparec', 'balrog', 'gandalf', 'enfrent', 'logr', 'arroj', 'puent', 'embarg', 'mientr', 'cai', 'balrog', 'cog', 'mag', 'latig', 'arrastr', 'haci', 'abism', 'apen', 'muert', 'gandalf', 'miembr', 'comun', 'lleg', 'bosqu', 'lothlori', 'elfo', 'hald', 'herman', 'dieron', 'cobij', 'condujeron', 'celeborn', 'galadriel', 'señor', 'bosqu', 'tras', 'pas', 'mes', 'descans', 'alli', 'comun', 'part', 'tres', 'barc', 'elfic', 'sigu', 'curs', 'rio', 'anduin', 'sarn', 'geb', 'alcanz', 'orcos', 'sarum', 'cre', 'isengard', 'logr', 'esquiv', 'cruz', 'orill', 'rio', 'lleg', 'prad', 'parth', 'gal', 'pies', 'amon', 'hen', 'frod', 'apart', 'demas', 'reflexion', 'si', 'segu', 'sol', 'camin', 'haci', 'mordor', 'quer', 'pon', 'peligr', 'amig', 'borom', 'llev', 'tiemp', 'des', 'anill', 'sigu', 'trat', 'convenc', 'destruyer', 'anill', 'llev', 'ciud', 'min', 'tirith', 'usad', 'defens', 'sauron', 'negat', 'hobbit', 'borom', 'intent', 'quit', 'anill', 'frod', 'pus', 'huir', 'entonc', 'borom', 'dio', 'cuent', 'hech', 'regres', 'junt', 'rest', 'comun', 'cont', 'sal', 'busc', 'frod', 'aragorn', 'orden', 'borom', 'sigu', 'merry', 'pippin', 'proteg', 'mientr', 'segu', 'sam', 'embarg', 'sam', 'encontr', 'frod', 'orill', 'rio', 'part', 'barc', 'aragorn', 'encontr'], ['tras', 'huid', 'frod', 'sam', 'parth', 'gal', 'borom', 'muer', 'man', 'mientr', 'proteg', 'merry', 'pippin', 'cual', 'apres', 'sirvient', 'sarum', 'aragorn', 'legol', 'gimli', 'decid', 'entonc', 'persegu', 'fin', 'rescat', 'dos', 'hobbits', 'part', 'moment', 'narracion', 'divid', 'vari', 'part', 'lad', 'persecu', 'tres', 'cazador', 'peripeci', 'merry', 'pippin', 'man', 'orcos', 'primer', 'tres', 'cazador', 'encuentr', 'eor', 'rohirrim', 'eom', 'mariscal', 'rein', 'roh', 'inform', 'batall', 'lind', 'fangorn', 'aparent', 'perec', 'dos', 'hobbits', 'part', 'culmin', 'aragorn', 'descubr', 'huell', 'camp', 'batall', 'llev', 'intern', 'bosqu', 'fangorn', 'reencontr', 'gandalf', 'ahor', 'convert', 'mag', 'blanc', 'merry', 'pippin', 'van', 'dej', 'señal', 'cazador', 'rescat', 'pens', 'ardid', 'escap', 'sufr', 'tortur', 'cansanci', 'final', 'hobbits', 'consig', 'escap', 'medi', 'batall', 'refugi', 'bosqu', 'fangorn', 'encuentr', 'barbol', 'ent', 'este', 'llev', 'interior', 'bosqu', 'cas', 'vez', 'descubr', 'trat', 'orcos', 'ayud', 'repon', 'fatig', 'enter', 'notici', 'mund', 'exterior', 'dia', 'ent', 'convoc', 'asamble', 'congener', 'defin', 'haran', 'peligr', 'represent', 'sarum', 'roh', 'ende', 'gondor', 'oest', 'lueg', 'reencuentr', 'gandalf', 'tres', 'cazador', 'mag', 'dirig', 'edor', 'liber', 'theod', 'influenci', 'malign', 'ejerc', 'mag', 'isengard', 'traves', 'sirvient', 'grim', 'frent', 'inminent', 'ataqu', 'sarum', 'gandalf', 'aconsej', 'rey', 'roh', 'repleg', 'abism', 'helm', 'defend', 'mejor', 'territori', 'cos', 'asi', 'hac', 'mientr', 'prep', 'replieg', 'mag', 'va', 'meduseld', 'intencion', 'segu', 'estrategi', 'prefij', 'derrot', 'oponent', 'part', 'produc', 'batall', 'abism', 'helm', 'fuerz', 'combin', 'rohirrim', 'ucorn', 'tras', 'oportun', 'lleg', 'gandalf', 'rohirrim', 'fold', 'oest', 'derrot', 'complet', 'ejercit', 'man', 'blanc', 'histori', 'conflu', 'ultim', 'cuatr', 'capitul', 'libr', 'iii', 'tras', 'batall', 'comit', 'integr', 'theod', 'gandalf', 'aragorn', 'legol', 'gimli', 'eom', 'treinten', 'caballer', 'part', 'haci', 'isengard', 'lleg', 'recib', 'sorpres', 'men', 'gandalf', 'merry', 'pippin', 'sent', 'escombr', 'puert', 'isengard', 'hobbits', 'disfrut', 'segund', 'desayun', 'mientr', 'cuent', 'amig', 'tod', 'experient', 'viv', 'separ', 'relat', 'ents', 'derrot', 'sarum', 'destru', 'isengard', 'tard', 'dirig', 'orthanc', 'manten', 'dialog', 'mag', 'blanc', 'qued', 'atrap', 'dentr', 'torr', 'intencion', 'gandalf', 'darl', 'oportun', 'sarum', 'retract', 'actos', 'ayud', 'venc', 'sauron', 'nieg', 'entonc', 'decid', 'dej', 'custodi', 'barbol', 'encerr', 'orthanc', 'previ', 'ello', 'grim', 'arroj', 'objet', 'gandalf', 'apresur', 'guard', 'rop', 'quit', 'pippin', 'pippin', 'intrig', 'curios', 'objet', 'gandalf', 'guard', 'cel', 'aprovech', 'dorm', 'campament', 'dol', 'bar', 'tom', 'objet', 'sab', 'trat', 'palant', 'orthanc', 'mir', 'qued', 'atrap', 'mir', 'sauron', 'puest', 'comunic', 'tras', 'ten', 'horribl', 'vision', 'involuntari', 'hobbit', 'revel', 'sauron', 'estrategi', 'gandalf', 'desafortun', 'accion', 'oblig', 'mag', 'llev', 'pippin', 'min', 'tirith', 'capital', 'rein', 'gondor', 'pon', 'salv', 'señor', 'oscur', 'prepar', 'defens', 'ciud', 'precipit', 'acontec'], ['tras', 'separ', 'rest', 'compañ', 'frod', 'sam', 'emprend', 'camin', 'haci', 'mordor', 'emyn', 'muil', 'tras', 'vari', 'dias', 'vag', 'busc', 'camin', 'permit', 'descend', 'haci', 'encuentr', 'gollum', 'sigu', 'mori', 'frod', 'acab', 'consigu', 'primer', 'baj', 'amenaz', 'lueg', 'argument', 'convincent', 'criatur', 'gui', 'haci', 'mordor', 'tras', 'sal', 'emyn', 'muil', 'atraves', 'cienag', 'muert', 'lleg', 'puert', 'negr', 'embarg', 'enorm', 'cantid', 'enemig', 'custodi', 'imposibilit', 'entrar', 'mordor', 'consej', 'gollum', 'viajer', 'decid', 'tom', 'camin', 'haci', 'pas', 'cirith', 'ungol', 'supon', 'men', 'vigil', 'sauron', 'ithili', 'deb', 'descu', 'sam', 'apag', 'fueg', 'usad', 'hac', 'com', 'faram', 'grup', 'montarac', 'atrap', 'pon', 'baj', 'custodi', 'mientr', 'libr', 'escaramuz', 'trop', 'har', 'gollum', 'escap', 'frod', 'sam', 'descubiert', 'montarac', 'acab', 'siend', 'captur', 'ojos', 'frod', 'hech', 'hac', 'criatur', 'sient', 'defraud', 'traicion', 'amo', 'desat', 'asi', 'vuelv', 'aparec', 'personal', 'obsesion', 'anill', 'descubr', 'faram', 'existent', 'objet', 'motiv', 'viaj', 'comienz', 'debat', 'contradiccion', 'hac', 'aunqu', 'final', 'ley', 'rein', 'capitan', 'dej', 'libr', 'hobbits', 'continu', 'march', 'vall', 'morgul', 'gollum', 'desaparec', 'vari', 'vec', 'plan', 'traicion', 'yend', 'hurtadill', 'prepar', 'terren', 'tras', 'lleg', 'desfilader', 'cirith', 'ungol', 'ver', 'sal', 'trop', 'rey', 'bruj', 'march', 'haci', 'min', 'tirith', 'viajer', 'part', 'escaler', 'rect', 'haci', 'mordor', 'tras', 'ascend', 'entran', 'torech', 'ungol', 'gollum', 'vuelv', 'desaparec', 'alert', 'arañ', 'gigant', 'presenci', 'hobbits', 'atac', 'just', 'descubr', 'sal', 'frod', 'pic', 'arañ', 'entra', 'inconscient', 'asemej', 'muert', 'lleg', 'ocurr', 'graci', 'intervencion', 'sam', 'luch', 'arañ', 'oblig', 'huir', 'malher', 'sam', 'ver', 'amo', 'aparent', 'muert', 'decid', 'continu', 'mision', 'sol', 'tras', 'tom', 'anill', 'unic', 'emprend', 'camin', 'haci', 'morgai', 'sol', 'recorr', 'metr', 've', 'cuerp', 'inert', 'frod', 'llev', 'orcos', 'afortun', 'sam', 'oye', 'coment', 'frod', 'muert', 'sin', 'sol', 'inmoviliz', 'venen', 'arañ', 'ocult', 'anill', 'hobbit', 'march', 'haci', 'torr', 'cirith', 'ungol', 'rescat', 'amo'], ['gandalf', 'pippin', 'cabalg', 'haci', 'min', 'tirith', 'lom', 'sombragr', 'tras', 'vari', 'dias', 'viaj', 'lleg', 'ciud', 'present', 'senescal', 'denethor', 'pippin', 'cuent', 'suces', 'ocurr', 'parth', 'gal', 'inclu', 'muert', 'hij', 'acab', 'ofrec', 'servici', 'pag', 'deud', 'gratitud', 'haci', 'borom', 'mientr', 'camin', 'edor', 'aragorn', 'rey', 'theod', 'encuentr', 'cerc', 'vad', 'isen', 'halbar', 'ellad', 'elroh', 'compañ', 'montarac', 'nort', 'transmit', 'dunad', 'consej', 'galadriel', 'junt', 'decid', 'tom', 'sender', 'muert', 'pued', 'lleg', 'sur', 'gondor', 'asi', 'intent', 'deten', 'corsari', 'umbar', 'tom', 'ciud', 'puert', 'pelarg', 'dispon', 'envi', 'flot', 'apoy', 'rey', 'bruj', 'legol', 'gimli', 'part', 'aragorn', 'haci', 'sender', 'alli', 'convoc', 'muert', 'sagrari', 'estos', 'deb', 'cumpl', 'jurament', 'hech', 'isildur', 'pas', 'libr', 'maldicion', 'acompañ', 'luch', 'corsari', 'quint', 'dia', 'estad', 'gandalf', 'pippin', 'min', 'tirith', 'sombr', 'espes', 'ocult', 'luz', 'sol', 'da', 'comienz', 'siti', 'ciud', 'part', 'ejercit', 'rey', 'bruj', 'faram', 'oblig', 'retir', 'puest', 'ramm', 'echor', 'huy', 'haci', 'ciud', 'inform', 'gandalf', 'frod', 'camin', 'tom', 'entrar', 'mordor', 'denethor', 'comienz', 'mostr', 'sintom', 'locur', 'envi', 'hij', 'vuelt', 'ramm', 'echor', 'mision', 'impos', 'intent', 'deten', 'enemig', 'mision', 'fracas', 'faram', 'regres', 'gravement', 'her', 'halit', 'negr', 'nazgûl', 'hech', 'termin', 'enloquec', 'denethor', 'decid', 'llev', 'cuerp', 'cas', 'mortuori', 'senescal', 'rath', 'din', 'intencion', 'ambos', 'quem', 'pir', 'funerari', 'pippin', 'tras', 'presenci', 'ataqu', 'locur', 'denethor', 'acud', 'busc', 'gandalf', 'mientr', 'ejercit', 'rey', 'bruj', 'termin', 'siti', 'ciud', 'lanz', 'ataqu', 'gran', 'puert', 'min', 'tirith', 'derrib', 'ayud', 'gigantesc', 'ariet', 'llam', 'grond', 'entonc', 'rey', 'bruj', 'entra', 'ciud', 'gandalf', 'dirig', 'resistent', 'sal', 'encuentr', 'enfrent', 'car', 'car', 'nazgûl', 'roh', 'theod', 'reun', 'trop', 'lug', 'conoc', 'sagrari', 'cen', 'rey', 'recib', 'visit', 'hirgon', 'emisari', 'senescal', 'denethor', 'tra', 'flech', 'roj', 'señal', 'gondor', 'demand', 'ayud', 'roh', 'cas', 'neces', 'junt', 'espes', 'nub', 'negr', 'envi', 'mordor', 'cubr', 'tod', 'region', 'sur', 'rio', 'anduin', 'apresur', 'moviliz', 'ejercit', 'roh', 'seis', 'mil', 'lancer', 'dispus', 'part', 'haci', 'min', 'tirith', 'merry', 'liber', 'servici', 'rey', 'theod', 'deb', 'tamañ', 'supondr', 'problem', 'hor', 'encontr', 'caball', 'veloz', 'estorb', 'cualqui', 'jinet', 'llev', 'grup', 'ejercit', 'part', 'jinet', 'hac', 'llam', 'dernhelm', 'tom', 'merry', 'mont', 'ocult', 'ropaj', 'ejercit', 'vio', 'oblig', 'acamp', 'bosqu', 'druad', 'segun', 'batidor', 'mill', 'adel', 'esper', 'ejercit', 'orcos', 'graci', 'ayud', 'jef', 'raz', 'druedain', 'habit', 'dich', 'bosqu', 'rohirrim', 'tom', 'camin', 'altern', 'sext', 'dia', 'cabalgat', 'lleg', 'ramm', 'echor', 'theod', 'dispus', 'trop', 'lanz', 'ataqu', 'just', 'moment', 'rey', 'bruj', 'penetr', 'min', 'tirith', 'entonc', 'comenz', 'batall', 'camp', 'pelennor', 'rohirrim', 'hic', 'retroced', 'enemig', 'hombr', 'gondor', 'romp', 'siti', 'sal', 'luch', 'camp', 'abiert', 'batall', 'rey', 'bruj', 'atac', 'theod', 'caball', 'crinblanc', 'asust', 'volte', 'jinet', 'cayend', 'obstant', 'nazgûl', 'dispon', 'remat', 'rey', 'dernhelm', 'interpon', 'revel', 'verdader', 'ident', 'eowyn', 'sobrin', 'rey', 'herman', 'eom', 'merry', 'observ', 'escen', 'tom', 'espad', 'da', 'nazgûl', 'estoc', 'tendon', 'mientr', 'eowyn', 'braz', 'malher', 'descarg', 'golp', 'espad', 'yelm', 'rey', 'bruj', 'muer', 'entonc', 'lleg', 'harlond', 'barc', 'corsari', 'orcos', 'ven', 'sorprend', 'baj', 'aragorn', 'legol', 'gimli', 'acompañ', 'cient', 'hombr', 'sur', 'gondor', 'sum', 'batall', 'consig', 'victori', 'gandalf', 'sid', 'alert', 'pippin', 'vuelv', 'sext', 'circul', 'min', 'tirith', 'batall', 'trat', 'deten', 'denethor', 'lleg', 'rath', 'din', 'trab', 'luch', 'enloquec', 'senescal', 'logr', 'rescat', 'moribund', 'faram', 'denethor', 'muer', 'pir', 'finaliz', 'batall', 'capitan', 'ejercit', 'decid', 'ide', 'gandalf', 'desvi', 'atencion', 'sauron', 'frod', 'pued', 'cumpl', 'mision', 'fuerz', 'qued', 'dirig', 'haci', 'puert', 'negr', 'vez', 'alli', 'tras', 'neg', 'condicion', 'sauron', 'inici', 'batall'], ['deb', 'codici', 'despert', 'cot', 'mall', 'mithril', 'frod', 'orcos', 'cirith', 'ungol', 'acab', 'mat', 'facilit', 'asi', 'rescat', 'amo', 'part', 'sam', 'disfraz', 'ropaj', 'orcos', 'hobbits', 'emprend', 'viaj', 'haci', 'orodruin', 'incorpor', 'trop', 'orcos', 'aunqu', 'despues', 'logr', 'huir', 'tras', 'dos', 'dias', 'march', 'despues', 'hab', 'deshech', 'pes', 'inutil', 'lleg', 'pies', 'mont', 'destin', 'bord', 'agot', 'sam', 'comienz', 'trep', 'montañ', 'carg', 'cuerp', 'casi', 'exanim', 'amo', 'deb', 'agot', 'produc', 'anill', 'pas', 'mit', 'sender', 'atac', 'gollum', 'mientr', 'sam', 'hac', 'carg', 'frod', 'continu', 'ascend', 'sam', 'incapaz', 'mat', 'criatur', 'dej', 'march', 'cuest', 'abaj', 'sam', 'va', 'entonc', 'busc', 'frod', 'lleg', 'sammath', 'naur', 'encuentr', 'bord', 'griet', 'destin', 'embarg', 'anill', 'termin', 'apoder', 'volunt', 'frod', 'tras', 'neg', 'arroj', 'lav', 'pon', 'moment', 'reaparec', 'gollum', 'dej', 'medi', 'inconscient', 'sam', 'luch', 'invis', 'frod', 'arranc', 'mordisc', 'ded', 'anul', 'man', 'anill', 'tal', 'alegr', 'gollum', 'hab', 'recuper', 'tesor', 'dars', 'cuent', 'cae', 'griet', 'mur', 'destruyendos', 'asi', 'anill', 'sauron', 'derrot', 'fin', 'junt', 'tod', 'obras', 'orodruin', 'estall', 'llam', 'consum', 'air', 'nazgûl', 'moment', 'dirig', 'alli', 'anill', 'mientr', 'puert', 'negr', 'guerrer', 'roh', 'gondor', 'aprovech', 'desconciert', 'enemig', 'contraatac', 'derrot', 'dias', 'despues', 'sam', 'frod', 'despiert', 'ithili', 'sid', 'rescat', 'lader', 'orodruin', 'gwaih', 'dos', 'aguil', 'conduc', 'gandalf', 'lug', 'tras', 'recuper', 'fisic', 'dirig', 'min', 'tirith', 'asist', 'her', 'coron', 'aragorn', 'union', 'este', 'arwen', 'hij', 'elrond', 'eom', 'convirt', 'nuev', 'rey', 'roh', 'herman', 'eowyn', 'cas', 'faram', 'nombr', 'senescal', 'tras', 'acud', 'funeral', 'rey', 'theod', 'edor', 'miembr', 'compañ', 'pus', 'rumb', 'rivendel', 'viaj', 'tom', 'distint', 'camin', 'pas', 'orthanc', 'barbol', 'inform', 'dej', 'escap', 'sarum', 'tard', 'encontr', 'tierr', 'brun', 'junt', 'lengu', 'serpient', 'ambos', 'neg', 'recib', 'ayud', 'vez', 'rivendel', 'frod', 'reencontr', 'bilb', 'entreg', 'libr', 'roj', 'fronter', 'oest', 'continu', 'escrib', 'aventur', 'mes', 'tard', 'cuatr', 'hobbits', 'gandalf', 'inici', 'camin', 'regres', 'haci', 'comarc', 'aunqu', 'mag', 'sol', 'acompañ', 'bosqu', 'viej', 'entonc', 'march', 'visit', 'tom', 'bombadil', 'lleg', 'comarc', 'hobbits', 'encontr', 'tom', 'dunlendin', 'segu', 'orden', 'sarum', 'embarg', 'frod', 'sam', 'merry', 'pippin', 'ayud', 'hobbits', 'acab', 'derrot', 'invasor', 'conoc', 'batall', 'delagu', 'hobbiton', 'encuentr', 'sarum', 'grim', 'ultim', 'cans', 'humill', 'primer', 'da', 'muert', 'siend', 'vez', 'muert', 'flechaz', 'hobbits', 'tras', 'ello', 'comienz', 'llam', 'saneamient', 'comarc', 'lug', 'reconstruccion', 'comarc', 'año', 'despues', 'sid', 'previst', 'rivendel', 'frod', 'acompañ', 'sam', 'encuentr', 'bosqu', 'cerr', 'gandalf', 'elrond', 'galadriel', 'bilb', 'comit', 'elfos', 'junt', 'viaj', 'haci', 'puert', 'gris', 'alli', 'esper', 'cird', 'merry', 'pippin', 'tras', 'dolor', 'desped', 'frod', 'bilb', 'elrond', 'gandalf', 'galadriel', 'elfos', 'part', 'barc', 'haci', 'tierr', 'impereceder']]\n"
     ]
    }
   ],
   "source": [
    "def preprocesamiento(texto):\n",
    "    words = nltk.word_tokenize(texto) # Tokenizar\n",
    "\n",
    "    words = [word for word in words if word.isalnum()] # Eliminar puntuación\n",
    "\n",
    "    stopwords = nltk.corpus.stopwords.words('spanish') \n",
    "    words = [word for word in words if word.lower() not in stopwords] # Filtrar stopwords\n",
    "  \n",
    "    stemmer = SnowballStemmer('spanish') \n",
    "    words = [stemmer.stem(word) for word in words] # Convertir a lexemas\n",
    "\n",
    "    return words\n",
    "\n",
    "textos = [\"libro1.txt\",\"libro2.txt\",\"libro3.txt\",\"libro4.txt\",\"libro5.txt\",\"libro6.txt\"]\n",
    "textos_procesados = []\n",
    "indice = {}\n",
    "for file_name in textos:\n",
    "  file = open(file_name, encoding=\"utf-8\")\n",
    "  texto = file.read().rstrip()\n",
    "  texto = preprocesamiento(texto)  \n",
    "  textos_procesados.append(texto)\n",
    "\n",
    "print(textos_procesados)"
   ]
  },
  {
   "cell_type": "markdown",
   "metadata": {},
   "source": [
    "### 2- Similitud de coseno"
   ]
  },
  {
   "cell_type": "code",
   "execution_count": 21,
   "metadata": {},
   "outputs": [
    {
     "name": "stdout",
     "output_type": "stream",
     "text": [
      "824\n",
      "1.00 0.54 0.41 0.48 0.36 0.59 \n",
      "0.54 1.00 0.39 0.44 0.37 0.54 \n",
      "0.41 0.39 1.00 0.18 0.40 0.34 \n",
      "0.48 0.44 0.18 1.00 0.30 0.59 \n",
      "0.36 0.37 0.40 0.30 1.00 0.34 \n",
      "0.59 0.54 0.34 0.59 0.34 1.00 \n"
     ]
    }
   ],
   "source": [
    "def compute_tfidf(collection):\n",
    "    index = {}\n",
    "    for i, doc in enumerate(collection):\n",
    "        for word in doc:\n",
    "            if word not in index:\n",
    "                index[word] = []\n",
    "            index[word].append(i)\n",
    "\n",
    "    print(len(index))\n",
    "\n",
    "    tfidf = [] \n",
    "    for doc in collection:\n",
    "        doc_tfidf = []\n",
    "        for word in index.keys():\n",
    "            tf = doc.count(word)\n",
    "            idf = np.log(len(collection) / len(index[word]))\n",
    "            doc_tfidf.append(tf * idf)\n",
    "        tfidf.append(doc_tfidf)\n",
    "    \n",
    "    return tfidf\n",
    "\n",
    "def cosine_sim(Q, Doc):  \n",
    "    Q = np.array(Q)\n",
    "    Doc = np.array(Doc)\n",
    "    res = np.dot(Q, Doc) / (np.linalg.norm(Q) * np.linalg.norm(Doc))\n",
    "    return res\n",
    "  \n",
    "textos_tfidf = compute_tfidf(textos_procesados)\n",
    "\n",
    "def print_pretty_matrix(matrix):\n",
    "  for row in matrix:\n",
    "    for value in row:\n",
    "      print(\"{:.2f}\".format(value), end=\" \")\n",
    "    print()\n",
    "\n",
    "matriz = []\n",
    "for doc1 in textos_tfidf:\n",
    "  row = []\n",
    "  for doc2 in textos_tfidf:  \n",
    "    row.append(cosine_sim(doc1, doc2))\n",
    "  matriz.append(row)\n",
    "\n",
    "print_pretty_matrix(matriz)"
   ]
  },
  {
   "cell_type": "markdown",
   "metadata": {},
   "source": [
    "## P4- Indice invertido con similitud de coseno\n",
    "\n",
    "### 1. Estructura del índice invertido en Python:"
   ]
  },
  {
   "cell_type": "code",
   "execution_count": 22,
   "metadata": {},
   "outputs": [
    {
     "name": "stderr",
     "output_type": "stream",
     "text": [
      "[nltk_data] Downloading package punkt to\n",
      "[nltk_data]     C:\\Users\\jeffr\\AppData\\Roaming\\nltk_data...\n",
      "[nltk_data]   Package punkt is already up-to-date!\n",
      "[nltk_data] Downloading package stopwords to\n",
      "[nltk_data]     C:\\Users\\jeffr\\AppData\\Roaming\\nltk_data...\n",
      "[nltk_data]   Package stopwords is already up-to-date!\n"
     ]
    }
   ],
   "source": [
    "import json\n",
    "import numpy as np\n",
    "import pandas as pd\n",
    "import nltk\n",
    "from nltk.stem import SnowballStemmer\n",
    "from sklearn.preprocessing import normalize\n",
    "\n",
    "nltk.download('punkt')\n",
    "nltk.download('stopwords')\n",
    "\n",
    "class InvertIndex:\n",
    "    \n",
    "    def __init__(self, index_file):\n",
    "        self.index_file = index_file\n",
    "        self.index = {}\n",
    "        self.idf = {}\n",
    "        self.length = {}\n",
    "\n",
    "    def __preprocesamiento(self, texto):\n",
    "        words = nltk.word_tokenize(texto)\n",
    "        words = [word for word in words if word.isalnum()]\n",
    "        stopwords = nltk.corpus.stopwords.words('spanish')\n",
    "        words = [word for word in words if word.lower() not in stopwords]\n",
    "        stemmer = SnowballStemmer('spanish')\n",
    "        words = [stemmer.stem(word) for word in words]\n",
    "        return words\n",
    "    \n",
    "    def __compute_tf(self, collection):\n",
    "        index = {}\n",
    "        for i, doc in enumerate(collection):\n",
    "            for word in doc:\n",
    "                if word not in index:\n",
    "                    index[word] = []\n",
    "                index[word].append(i)\n",
    "        print(len(index))\n",
    "        return index\n",
    "    \n",
    "    def __compute_idf(self, collection):\n",
    "        idf = {}\n",
    "        for word in self.index.keys():\n",
    "            idf[word] = np.log(len(collection) / len(self.index[word]))\n",
    "        return idf\n",
    "    \n",
    "    def __load_index(self, index_file):\n",
    "        self.index = json.load(open(index_file, 'r'))\n",
    "        self.idf = json.load(open(index_file.replace(\"index\", \"idf\"), 'r'))\n",
    "        self.length = json.load(open(index_file.replace(\"index\", \"length\"), 'r'))\n",
    "\n",
    "    def __save_index(self, index_file):\n",
    "        json.dump(self.index, open(index_file, 'w'))\n",
    "        json.dump(self.idf, open(index_file.replace(\"index\", \"idf\"), 'w'))\n",
    "        json.dump(self.length, open(index_file.replace(\"index\", \"length\"), 'w'))\n",
    "\n",
    "    def building(self, collection_text):\n",
    "        preprocesamiento = [self.__preprocesamiento(texto) for texto in collection_text]\n",
    "        self.index = self.__compute_tf(preprocesamiento)\n",
    "        self.idf = self.__compute_idf(preprocesamiento)\n",
    "        \n",
    "        tf_idf_matrix = []\n",
    "        for doc in preprocesamiento:\n",
    "            tf_idf_vector = []\n",
    "            for word in self.index.keys():\n",
    "                tf = doc.count(word)\n",
    "                tf_idf_vector.append(tf * self.idf.get(word, 0))\n",
    "            tf_idf_matrix.append(tf_idf_vector)\n",
    "        \n",
    "        self.length = np.linalg.norm(tf_idf_matrix, axis=1).tolist()\n",
    "        \n",
    "        self.__save_index(self.index_file)\n",
    "        print(\"Index built and saved in\", self.index_file)\n",
    "\n",
    "    def retrieval(self, query, k):\n",
    "        self.__load_index(self.index_file)\n",
    "        score = {}\n",
    "        query = self.__preprocesamiento(query)\n",
    "        \n",
    "        query_tf_idf = np.zeros(len(self.index))\n",
    "        for i, word in enumerate(self.index.keys()):\n",
    "            if word in query:\n",
    "                tf = query.count(word)\n",
    "                query_tf_idf[i] = tf * self.idf.get(word, 0)\n",
    "        \n",
    "        query_length = np.linalg.norm(query_tf_idf)\n",
    "        \n",
    "        for i in range(len(self.length)):\n",
    "            doc_vector = np.zeros(len(self.index))\n",
    "            for word in query:\n",
    "                if word in self.index:\n",
    "                    for doc_id in self.index[word]:\n",
    "                        if doc_id == i:\n",
    "                            tf = self.index[word].count(doc_id)\n",
    "                            doc_vector[list(self.index.keys()).index(word)] = tf * self.idf[word]\n",
    "            doc_length = self.length[i]\n",
    "            cosine_similarity = np.dot(query_tf_idf, doc_vector) / (query_length * doc_length)\n",
    "            score[i] = cosine_similarity\n",
    "        \n",
    "        result = sorted(score.items(), key=lambda tup: tup[1], reverse=True)\n",
    "        return result[:k]\n"
   ]
  },
  {
   "cell_type": "markdown",
   "metadata": {},
   "source": [
    "## Paso 2:\tProbar el Índice"
   ]
  },
  {
   "cell_type": "code",
   "execution_count": 23,
   "metadata": {},
   "outputs": [
    {
     "name": "stdout",
     "output_type": "stream",
     "text": [
      "14569\n",
      "Index built and saved in index.txt\n"
     ]
    },
    {
     "name": "stderr",
     "output_type": "stream",
     "text": [
      "C:\\Users\\jeffr\\AppData\\Local\\Temp\\ipykernel_25172\\481521665.py:94: RuntimeWarning: invalid value encountered in scalar divide\n",
      "  cosine_similarity = np.dot(query_tf_idf, doc_vector) / (query_length * doc_length)\n"
     ]
    },
    {
     "name": "stdout",
     "output_type": "stream",
     "text": [
      "[1, 15, 409, 126, 748, 14, 34, 52, 91, 113]\n"
     ]
    }
   ],
   "source": [
    "dataton = pd.read_csv('df_total.csv')\n",
    "\n",
    "collection_text = dataton['news']\n",
    "index = InvertIndex(\"index.txt\")\n",
    "index.building(collection_text)\n",
    "\n",
    "Query1 = \"El regulador de valores de China\"\n",
    "result = index.retrieval(Query1, 10)\n",
    "print([r[0] for r in result])\n"
   ]
  }
 ],
 "metadata": {
  "kernelspec": {
   "display_name": "venv",
   "language": "python",
   "name": "python3"
  },
  "language_info": {
   "codemirror_mode": {
    "name": "ipython",
    "version": 3
   },
   "file_extension": ".py",
   "mimetype": "text/x-python",
   "name": "python",
   "nbconvert_exporter": "python",
   "pygments_lexer": "ipython3",
   "version": "3.12.4"
  }
 },
 "nbformat": 4,
 "nbformat_minor": 2
}
